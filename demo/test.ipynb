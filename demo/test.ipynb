{
 "cells": [
  {
   "cell_type": "code",
   "execution_count": 1,
   "metadata": {},
   "outputs": [
    {
     "name": "stdout",
     "output_type": "stream",
     "text": [
      "Using matplotlib backend: Qt5Agg\n",
      "Populating the interactive namespace from numpy and matplotlib\n"
     ]
    }
   ],
   "source": [
    "%pylab\n",
    "%reload_ext autoreload\n",
    "%autoreload 2\n",
    "\n",
    "\n",
    "import pandas as pd"
   ]
  },
  {
   "cell_type": "code",
   "execution_count": 2,
   "metadata": {},
   "outputs": [],
   "source": [
    "fashion_mnist = pd.read_csv('feat7k.csv')"
   ]
  },
  {
   "cell_type": "code",
   "execution_count": 3,
   "metadata": {},
   "outputs": [
    {
     "data": {
      "text/plain": [
       "(7653, 4097)"
      ]
     },
     "execution_count": 3,
     "metadata": {},
     "output_type": "execute_result"
    }
   ],
   "source": [
    "fashion_mnist.shape"
   ]
  },
  {
   "cell_type": "code",
   "execution_count": 31,
   "metadata": {},
   "outputs": [],
   "source": [
    "import os \n",
    "from natsort import natsorted\n",
    "\n",
    "names = natsorted(os.listdir('/home/parawr/Projects/clusterFacadeData/superFacade'))\n",
    "names_to_class = {ii:o for ii, o in enumerate(names)}\n",
    "\n",
    "names_to_class[10] = 'Switzerlan'"
   ]
  },
  {
   "cell_type": "code",
   "execution_count": 5,
   "metadata": {},
   "outputs": [
    {
     "data": {
      "text/plain": [
       "{'Austria': 0,\n",
       " 'Belgium': 1,\n",
       " 'China': 2,\n",
       " 'Denmark': 3,\n",
       " 'France': 4,\n",
       " 'Germany': 5,\n",
       " 'Greece': 6,\n",
       " 'Italy': 7,\n",
       " 'Netherlands': 8,\n",
       " 'Romania': 9,\n",
       " 'Switzerland': 10,\n",
       " 'UK': 11,\n",
       " 'USA_Chicago': 12,\n",
       " 'USA_Dallas': 13,\n",
       " 'USA_Hawaii': 14,\n",
       " 'USA_LosAngeles': 15,\n",
       " 'USA_NewYork': 16}"
      ]
     },
     "execution_count": 5,
     "metadata": {},
     "output_type": "execute_result"
    }
   ],
   "source": [
    "{'Austria': 0,\n",
    " 'Belgium': 1,\n",
    " 'China': 2,\n",
    " 'Denmark': 3,\n",
    " 'France': 4,\n",
    " 'Germany': 5,\n",
    " 'Greece': 6,\n",
    " 'Italy': 7,\n",
    " 'Netherlands': 8,\n",
    " 'Romania': 9,\n",
    " 'Switzerland': 10,\n",
    " 'UK': 11,\n",
    " 'USA_Chicago': 12,\n",
    " 'USA_Dallas': 13,\n",
    " 'USA_Hawaii': 14,\n",
    " 'USA_LosAngeles': 15,\n",
    " 'USA_NewYork': 16}"
   ]
  },
  {
   "cell_type": "code",
   "execution_count": 37,
   "metadata": {},
   "outputs": [],
   "source": [
    "import pickle \n",
    "with open('id_to_name7k.pickle', 'rb') as fd:\n",
    "    id_to_name = pickle.load(fd)\n",
    "    \n",
    "id_to_class = []\n",
    "for ii, name in enumerate(id_to_name):\n",
    "    for jj, class_name in names_to_class.items():\n",
    "        if class_name in name:\n",
    "            id_to_class.append(jj)"
   ]
  },
  {
   "cell_type": "code",
   "execution_count": 33,
   "metadata": {},
   "outputs": [
    {
     "data": {
      "text/plain": [
       "7653"
      ]
     },
     "execution_count": 33,
     "metadata": {},
     "output_type": "execute_result"
    }
   ],
   "source": [
    "len(id_to_class)"
   ]
  },
  {
   "cell_type": "code",
   "execution_count": 34,
   "metadata": {},
   "outputs": [
    {
     "data": {
      "text/plain": [
       "set()"
      ]
     },
     "execution_count": 34,
     "metadata": {},
     "output_type": "execute_result"
    }
   ],
   "source": [
    "set(range(7653)).difference(set(id_to_class.keys()))"
   ]
  },
  {
   "cell_type": "code",
   "execution_count": 30,
   "metadata": {},
   "outputs": [
    {
     "data": {
      "text/plain": [
       "'Switzerlan_Bern_way97246574_wall_3_2_n3Jx5nKwFqvde_0OB7l2SA_VP_0_1_FId_749_.jpg'"
      ]
     },
     "execution_count": 30,
     "metadata": {},
     "output_type": "execute_result"
    }
   ],
   "source": [
    "id_to_name[5725]"
   ]
  },
  {
   "cell_type": "code",
   "execution_count": 35,
   "metadata": {},
   "outputs": [
    {
     "data": {
      "text/plain": [
       "(7653, 4097)"
      ]
     },
     "execution_count": 35,
     "metadata": {},
     "output_type": "execute_result"
    }
   ],
   "source": [
    "nrows, ncols = fashion_mnist.shape\n",
    "nrows, ncols"
   ]
  },
  {
   "cell_type": "code",
   "execution_count": 38,
   "metadata": {},
   "outputs": [
    {
     "data": {
      "text/plain": [
       "7653"
      ]
     },
     "execution_count": 38,
     "metadata": {},
     "output_type": "execute_result"
    }
   ],
   "source": [
    "id_to_class = id_to_class[:nrows]\n",
    "len(id_to_class)"
   ]
  },
  {
   "cell_type": "code",
   "execution_count": 39,
   "metadata": {},
   "outputs": [],
   "source": [
    "import umap\n",
    "import numpy as np\n",
    "import pandas as pd\n",
    "import requests\n",
    "import os\n",
    "import datashader as ds\n",
    "import datashader.utils as utils\n",
    "import datashader.transfer_functions as tf\n",
    "\n",
    "import matplotlib.pyplot as plt\n",
    "import seaborn as sns\n",
    "import time\n",
    "\n",
    "sns.set(context=\"paper\", style=\"white\")\n",
    "\n",
    "source_df = pd.read_csv('feat7k.csv')\n",
    "\n",
    "data = source_df.iloc[:, 1:4095].values.astype(np.float32)\n",
    "target = id_to_class"
   ]
  },
  {
   "cell_type": "code",
   "execution_count": 40,
   "metadata": {},
   "outputs": [
    {
     "data": {
      "text/plain": [
       "{'0': '#ffffff',\n",
       " '1': '#000000',\n",
       " '10': '#00009d',\n",
       " '11': '#867068',\n",
       " '12': '#004942',\n",
       " '13': '#4f2a00',\n",
       " '14': '#00fdcf',\n",
       " '15': '#bcb7ff',\n",
       " '16': '#95b47a',\n",
       " '2': '#d70000',\n",
       " '3': '#8c3cff',\n",
       " '4': '#028800',\n",
       " '5': '#00acc7',\n",
       " '6': '#98ff00',\n",
       " '7': '#ff7fd1',\n",
       " '8': '#6c004f',\n",
       " '9': '#ffa530'}"
      ]
     },
     "execution_count": 40,
     "metadata": {},
     "output_type": "execute_result"
    }
   ],
   "source": [
    "pal = [\n",
    "    '#FFFFFF',\n",
    "    '#000000',\n",
    "    '#D70000',\n",
    "    '#8C3CFF',\n",
    "    '#028800',\n",
    "    '#00ACC7',\n",
    "    '#98FF00',\n",
    "    '#FF7FD1',\n",
    "    '#6C004F',\n",
    "    '#FFA530',\n",
    "    '#00009D',\n",
    "    '#867068',\n",
    "    '#004942',\n",
    "    '#4F2A00',\n",
    "    '#00FDCF',\n",
    "    '#BCB7FF',\n",
    "    '#95B47A',\n",
    "    ]\n",
    "color_key = {str(d):c.lower() for d,c in enumerate(pal)}\n",
    "color_key"
   ]
  },
  {
   "cell_type": "code",
   "execution_count": 41,
   "metadata": {},
   "outputs": [
    {
     "name": "stdout",
     "output_type": "stream",
     "text": [
      "293.666139125824\n"
     ]
    }
   ],
   "source": [
    "reducer = umap.UMAP(random_state=42)\n",
    "start = time.time()\n",
    "embedding = reducer.fit_transform(data)\n",
    "print(time.time() - start)\n",
    "np.savez('embedding4096.npz', embedding)"
   ]
  },
  {
   "cell_type": "code",
   "execution_count": 42,
   "metadata": {},
   "outputs": [
    {
     "data": {
      "text/plain": [
       "array([ 0,  1,  2,  3,  4,  5,  6,  7,  8,  9, 10, 11, 12, 13, 14, 15, 16])"
      ]
     },
     "execution_count": 42,
     "metadata": {},
     "output_type": "execute_result"
    }
   ],
   "source": [
    "np.unique(target)"
   ]
  },
  {
   "cell_type": "code",
   "execution_count": 15,
   "metadata": {},
   "outputs": [],
   "source": [
    "df = pd.DataFrame(embedding, columns=('x', 'y'))\n",
    "df['class'] = pd.Series([str(x) for x in target], dtype=\"category\")"
   ]
  },
  {
   "cell_type": "code",
   "execution_count": 29,
   "metadata": {},
   "outputs": [],
   "source": [
    "cvs = ds.Canvas(plot_width=400, plot_height=400)\n",
    "agg = cvs.points(df, 'x', 'y', ds.count_cat('class'))\n",
    "img = tf.shade(agg, color_key=color_key, how='eq_hist')\n",
    "\n",
    "\n",
    "utils.export_image(img, filename='feat7k', background='white')\n",
    "\n",
    "image = plt.imread('feat7k.png')\n",
    "fig, ax = plt.subplots(figsize=(6, 6))\n",
    "plt.imshow(image)\n",
    "plt.setp(ax, xticks=[], yticks=[])\n",
    "plt.title(\"Fashion MNIST data embedded\\n\"\n",
    "          \"into two dimensions by UMAP\\n\"\n",
    "          \"visualised with Datashader\",\n",
    "          fontsize=12)\n",
    "\n",
    "plt.show()"
   ]
  },
  {
   "cell_type": "code",
   "execution_count": 46,
   "metadata": {},
   "outputs": [],
   "source": [
    "sc = plt.scatter(embedding[:, 0], embedding[:, 1], c=target, cmap=plt.cm.tab20)\n",
    "cbar = plt.colorbar(sc)\n",
    "\n",
    "cbar.set_ticks(range(17))\n",
    "cbar.set_ticklabels(list(names_to_class.values()))\n"
   ]
  },
  {
   "cell_type": "code",
   "execution_count": 47,
   "metadata": {},
   "outputs": [
    {
     "data": {
      "text/plain": [
       "20"
      ]
     },
     "execution_count": 47,
     "metadata": {},
     "output_type": "execute_result"
    }
   ],
   "source": [
    "len(list(names_to_class.values())+['x', 'x', 'x'])"
   ]
  }
 ],
 "metadata": {
  "kernelspec": {
   "display_name": "Python 3",
   "language": "python",
   "name": "python3"
  },
  "language_info": {
   "codemirror_mode": {
    "name": "ipython",
    "version": 3
   },
   "file_extension": ".py",
   "mimetype": "text/x-python",
   "name": "python",
   "nbconvert_exporter": "python",
   "pygments_lexer": "ipython3",
   "version": "3.5.5"
  }
 },
 "nbformat": 4,
 "nbformat_minor": 2
}
