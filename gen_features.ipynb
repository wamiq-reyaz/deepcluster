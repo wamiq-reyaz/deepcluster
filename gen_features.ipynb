{
 "cells": [
  {
   "cell_type": "code",
   "execution_count": 1,
   "metadata": {},
   "outputs": [
    {
     "name": "stdout",
     "output_type": "stream",
     "text": [
      "Using matplotlib backend: Qt5Agg\n",
      "Populating the interactive namespace from numpy and matplotlib\n"
     ]
    }
   ],
   "source": [
    "%pylab\n",
    "%reload_ext autoreload\n",
    "%autoreload 2\n",
    "\n",
    "import numpy as np\n",
    "import pandas as pd\n",
    "import easydict as ED\n",
    "import os\n",
    "import time\n",
    "\n",
    "import torch \n",
    "import torch.nn as nn\n",
    "import torch.backends.cudnn as cudnn\n",
    "from torchvision import datasets, transforms\n",
    "\n",
    "import models\n",
    "# from main import compute_features\n",
    "from util import AverageMeter"
   ]
  },
  {
   "cell_type": "code",
   "execution_count": 2,
   "metadata": {},
   "outputs": [],
   "source": [
    "args = ED.EasyDict()\n",
    "args.arch = 'vgg16'\n",
    "args.sobel = True\n",
    "args.data = '/run/user/1001/gvfs/smb-share:server=samba.dragon.kaust.edu.sa,share=' \\\n",
    "            'scratch_dragon_intel/parawr/fac100k'\n",
    "\n",
    "args.checkpoint = '/run/user/1001/gvfs/smb-share:server=samba.dragon.kaust.edu.sa,share=' \\\n",
    "                  'parawr/Projects/deepCluster/exp/vgg16/LR_0.01_WD_m5_BS_32_K_10000/' \\\n",
    "                  'checkpoint.pth.tar'\n",
    "\n",
    "args.save_dir = './features'\n",
    "\n",
    "args.batch = 32\n",
    "args.workers = 12\n",
    "args.verbose = True"
   ]
  },
  {
   "cell_type": "code",
   "execution_count": 3,
   "metadata": {},
   "outputs": [],
   "source": [
    "def get_exp_name(ckpt_name):\n",
    "    names = ckpt_name.split('/')\n",
    "    return names[-2]\n",
    "\n",
    "def load_weights(net, weights):\n",
    "    if os.path.isfile(weights):\n",
    "            print(\"=> loading checkpoint '{}'\".format(weights))\n",
    "            checkpoint = torch.load(weights)\n",
    "            args.start_epoch = checkpoint['epoch']\n",
    "            model.load_state_dict(checkpoint['state_dict'])\n",
    "            print(\"=> loaded checkpoint (epoch {})\"\n",
    "                  .format(checkpoint['epoch']))\n",
    "    else:\n",
    "        print(\"=> no checkpoint found at '{}'\".format(weights))\n",
    "        \n",
    "def compute_features(dataloader, model, N):\n",
    "    batch_time = AverageMeter()\n",
    "    end = time.time()\n",
    "    model.eval()\n",
    "    # discard the label information in the dataloader\n",
    "    for i, (input_tensor, _) in enumerate(dataloader):\n",
    "        print('\\rBatch Number {}/{}'.format(i, N), end='')\n",
    "        with torch.no_grad():\n",
    "            input_var = input_tensor.cuda()\n",
    "            aux = model(input_var).data.cpu().numpy()\n",
    "\n",
    "        if i == 0:\n",
    "            features = np.zeros((N, aux.shape[1])).astype('float32')\n",
    "\n",
    "        if i < len(dataloader) - 1:\n",
    "            features[i * args.batch: (i + 1) * args.batch] = aux.astype('float32')\n",
    "        else:\n",
    "            # special treatment for final batch\n",
    "            features[i * args.batch:] = aux.astype('float32')\n",
    "\n",
    "        # measure elapsed time\n",
    "        batch_time.update(time.time() - end)\n",
    "        end = time.time()\n",
    "\n",
    "        if args.verbose and (i % 200) == 0:\n",
    "            print('{0} / {1}\\t'\n",
    "                  'Time: {batch_time.val:.3f} ({batch_time.avg:.3f})'\n",
    "                  .format(i, len(dataloader), batch_time=batch_time))\n",
    "    return features"
   ]
  },
  {
   "cell_type": "code",
   "execution_count": 5,
   "metadata": {},
   "outputs": [
    {
     "data": {
      "text/plain": [
       "'/home/parawr/Projects/deepCluster'"
      ]
     },
     "execution_count": 5,
     "metadata": {},
     "output_type": "execute_result"
    }
   ],
   "source": [
    "%pwd"
   ]
  },
  {
   "cell_type": "code",
   "execution_count": 4,
   "metadata": {},
   "outputs": [
    {
     "ename": "FileNotFoundError",
     "evalue": "[Errno 2] No such file or directory: '/run/user/1001/gvfs/smb-share:server=samba.dragon.kaust.edu.sa,share=scratch_dragon_intel/parawr/fac100k'",
     "output_type": "error",
     "traceback": [
      "\u001b[0;31m---------------------------------------------------------------------------\u001b[0m",
      "\u001b[0;31mFileNotFoundError\u001b[0m                         Traceback (most recent call last)",
      "\u001b[0;32m<ipython-input-4-4851e25a7bba>\u001b[0m in \u001b[0;36m<module>\u001b[0;34m()\u001b[0m\n\u001b[1;32m      8\u001b[0m \u001b[0;31m# load the data\u001b[0m\u001b[0;34m\u001b[0m\u001b[0;34m\u001b[0m\u001b[0m\n\u001b[1;32m      9\u001b[0m \u001b[0mend\u001b[0m \u001b[0;34m=\u001b[0m \u001b[0mtime\u001b[0m\u001b[0;34m.\u001b[0m\u001b[0mtime\u001b[0m\u001b[0;34m(\u001b[0m\u001b[0;34m)\u001b[0m\u001b[0;34m\u001b[0m\u001b[0m\n\u001b[0;32m---> 10\u001b[0;31m \u001b[0mdataset\u001b[0m \u001b[0;34m=\u001b[0m \u001b[0mdatasets\u001b[0m\u001b[0;34m.\u001b[0m\u001b[0mImageFolder\u001b[0m\u001b[0;34m(\u001b[0m\u001b[0margs\u001b[0m\u001b[0;34m.\u001b[0m\u001b[0mdata\u001b[0m\u001b[0;34m,\u001b[0m \u001b[0mtransform\u001b[0m\u001b[0;34m=\u001b[0m\u001b[0mtransforms\u001b[0m\u001b[0;34m.\u001b[0m\u001b[0mCompose\u001b[0m\u001b[0;34m(\u001b[0m\u001b[0mtra\u001b[0m\u001b[0;34m)\u001b[0m\u001b[0;34m)\u001b[0m\u001b[0;34m\u001b[0m\u001b[0m\n\u001b[0m\u001b[1;32m     11\u001b[0m \u001b[0mprint\u001b[0m\u001b[0;34m(\u001b[0m\u001b[0;34m'Load dataset: {0:.2f} s'\u001b[0m\u001b[0;34m.\u001b[0m\u001b[0mformat\u001b[0m\u001b[0;34m(\u001b[0m\u001b[0mtime\u001b[0m\u001b[0;34m.\u001b[0m\u001b[0mtime\u001b[0m\u001b[0;34m(\u001b[0m\u001b[0;34m)\u001b[0m \u001b[0;34m-\u001b[0m \u001b[0mend\u001b[0m\u001b[0;34m)\u001b[0m\u001b[0;34m)\u001b[0m\u001b[0;34m\u001b[0m\u001b[0m\n\u001b[1;32m     12\u001b[0m dataloader = torch.utils.data.DataLoader(dataset,\n",
      "\u001b[0;32m~/anaconda2/envs/pytorch/lib/python3.5/site-packages/torchvision/datasets/folder.py\u001b[0m in \u001b[0;36m__init__\u001b[0;34m(self, root, transform, target_transform, loader)\u001b[0m\n\u001b[1;32m    176\u001b[0m         super(ImageFolder, self).__init__(root, loader, IMG_EXTENSIONS,\n\u001b[1;32m    177\u001b[0m                                           \u001b[0mtransform\u001b[0m\u001b[0;34m=\u001b[0m\u001b[0mtransform\u001b[0m\u001b[0;34m,\u001b[0m\u001b[0;34m\u001b[0m\u001b[0m\n\u001b[0;32m--> 178\u001b[0;31m                                           target_transform=target_transform)\n\u001b[0m\u001b[1;32m    179\u001b[0m         \u001b[0mself\u001b[0m\u001b[0;34m.\u001b[0m\u001b[0mimgs\u001b[0m \u001b[0;34m=\u001b[0m \u001b[0mself\u001b[0m\u001b[0;34m.\u001b[0m\u001b[0msamples\u001b[0m\u001b[0;34m\u001b[0m\u001b[0m\n",
      "\u001b[0;32m~/anaconda2/envs/pytorch/lib/python3.5/site-packages/torchvision/datasets/folder.py\u001b[0m in \u001b[0;36m__init__\u001b[0;34m(self, root, loader, extensions, transform, target_transform)\u001b[0m\n\u001b[1;32m     73\u001b[0m \u001b[0;34m\u001b[0m\u001b[0m\n\u001b[1;32m     74\u001b[0m     \u001b[0;32mdef\u001b[0m \u001b[0m__init__\u001b[0m\u001b[0;34m(\u001b[0m\u001b[0mself\u001b[0m\u001b[0;34m,\u001b[0m \u001b[0mroot\u001b[0m\u001b[0;34m,\u001b[0m \u001b[0mloader\u001b[0m\u001b[0;34m,\u001b[0m \u001b[0mextensions\u001b[0m\u001b[0;34m,\u001b[0m \u001b[0mtransform\u001b[0m\u001b[0;34m=\u001b[0m\u001b[0;32mNone\u001b[0m\u001b[0;34m,\u001b[0m \u001b[0mtarget_transform\u001b[0m\u001b[0;34m=\u001b[0m\u001b[0;32mNone\u001b[0m\u001b[0;34m)\u001b[0m\u001b[0;34m:\u001b[0m\u001b[0;34m\u001b[0m\u001b[0m\n\u001b[0;32m---> 75\u001b[0;31m         \u001b[0mclasses\u001b[0m\u001b[0;34m,\u001b[0m \u001b[0mclass_to_idx\u001b[0m \u001b[0;34m=\u001b[0m \u001b[0mfind_classes\u001b[0m\u001b[0;34m(\u001b[0m\u001b[0mroot\u001b[0m\u001b[0;34m)\u001b[0m\u001b[0;34m\u001b[0m\u001b[0m\n\u001b[0m\u001b[1;32m     76\u001b[0m         \u001b[0msamples\u001b[0m \u001b[0;34m=\u001b[0m \u001b[0mmake_dataset\u001b[0m\u001b[0;34m(\u001b[0m\u001b[0mroot\u001b[0m\u001b[0;34m,\u001b[0m \u001b[0mclass_to_idx\u001b[0m\u001b[0;34m,\u001b[0m \u001b[0mextensions\u001b[0m\u001b[0;34m)\u001b[0m\u001b[0;34m\u001b[0m\u001b[0m\n\u001b[1;32m     77\u001b[0m         \u001b[0;32mif\u001b[0m \u001b[0mlen\u001b[0m\u001b[0;34m(\u001b[0m\u001b[0msamples\u001b[0m\u001b[0;34m)\u001b[0m \u001b[0;34m==\u001b[0m \u001b[0;36m0\u001b[0m\u001b[0;34m:\u001b[0m\u001b[0;34m\u001b[0m\u001b[0m\n",
      "\u001b[0;32m~/anaconda2/envs/pytorch/lib/python3.5/site-packages/torchvision/datasets/folder.py\u001b[0m in \u001b[0;36mfind_classes\u001b[0;34m(dir)\u001b[0m\n\u001b[1;32m     21\u001b[0m \u001b[0;34m\u001b[0m\u001b[0m\n\u001b[1;32m     22\u001b[0m \u001b[0;32mdef\u001b[0m \u001b[0mfind_classes\u001b[0m\u001b[0;34m(\u001b[0m\u001b[0mdir\u001b[0m\u001b[0;34m)\u001b[0m\u001b[0;34m:\u001b[0m\u001b[0;34m\u001b[0m\u001b[0m\n\u001b[0;32m---> 23\u001b[0;31m     \u001b[0mclasses\u001b[0m \u001b[0;34m=\u001b[0m \u001b[0;34m[\u001b[0m\u001b[0md\u001b[0m \u001b[0;32mfor\u001b[0m \u001b[0md\u001b[0m \u001b[0;32min\u001b[0m \u001b[0mos\u001b[0m\u001b[0;34m.\u001b[0m\u001b[0mlistdir\u001b[0m\u001b[0;34m(\u001b[0m\u001b[0mdir\u001b[0m\u001b[0;34m)\u001b[0m \u001b[0;32mif\u001b[0m \u001b[0mos\u001b[0m\u001b[0;34m.\u001b[0m\u001b[0mpath\u001b[0m\u001b[0;34m.\u001b[0m\u001b[0misdir\u001b[0m\u001b[0;34m(\u001b[0m\u001b[0mos\u001b[0m\u001b[0;34m.\u001b[0m\u001b[0mpath\u001b[0m\u001b[0;34m.\u001b[0m\u001b[0mjoin\u001b[0m\u001b[0;34m(\u001b[0m\u001b[0mdir\u001b[0m\u001b[0;34m,\u001b[0m \u001b[0md\u001b[0m\u001b[0;34m)\u001b[0m\u001b[0;34m)\u001b[0m\u001b[0;34m]\u001b[0m\u001b[0;34m\u001b[0m\u001b[0m\n\u001b[0m\u001b[1;32m     24\u001b[0m     \u001b[0mclasses\u001b[0m\u001b[0;34m.\u001b[0m\u001b[0msort\u001b[0m\u001b[0;34m(\u001b[0m\u001b[0;34m)\u001b[0m\u001b[0;34m\u001b[0m\u001b[0m\n\u001b[1;32m     25\u001b[0m     \u001b[0mclass_to_idx\u001b[0m \u001b[0;34m=\u001b[0m \u001b[0;34m{\u001b[0m\u001b[0mclasses\u001b[0m\u001b[0;34m[\u001b[0m\u001b[0mi\u001b[0m\u001b[0;34m]\u001b[0m\u001b[0;34m:\u001b[0m \u001b[0mi\u001b[0m \u001b[0;32mfor\u001b[0m \u001b[0mi\u001b[0m \u001b[0;32min\u001b[0m \u001b[0mrange\u001b[0m\u001b[0;34m(\u001b[0m\u001b[0mlen\u001b[0m\u001b[0;34m(\u001b[0m\u001b[0mclasses\u001b[0m\u001b[0;34m)\u001b[0m\u001b[0;34m)\u001b[0m\u001b[0;34m}\u001b[0m\u001b[0;34m\u001b[0m\u001b[0m\n",
      "\u001b[0;31mFileNotFoundError\u001b[0m: [Errno 2] No such file or directory: '/run/user/1001/gvfs/smb-share:server=samba.dragon.kaust.edu.sa,share=scratch_dragon_intel/parawr/fac100k'"
     ]
    }
   ],
   "source": [
    "normalize = transforms.Normalize(mean=[0.485, 0.456, 0.406],\n",
    "                                     std=[0.229, 0.224, 0.225])\n",
    "tra = [transforms.Resize(256),\n",
    "   transforms.CenterCrop(224),\n",
    "   transforms.ToTensor(),\n",
    "   normalize]\n",
    "\n",
    "# load the data\n",
    "end = time.time()\n",
    "dataset = datasets.ImageFolder(args.data, transform=transforms.Compose(tra))\n",
    "print('Load dataset: {0:.2f} s'.format(time.time() - end))\n",
    "dataloader = torch.utils.data.DataLoader(dataset,\n",
    "                                         batch_size=args.batch,\n",
    "                                         num_workers=args.workers,\n",
    "                                         pin_memory=True)"
   ]
  },
  {
   "cell_type": "code",
   "execution_count": null,
   "metadata": {},
   "outputs": [],
   "source": [
    "model = models.__dict__[args.arch](sobel=args.sobel)\n",
    "fd = int(model.top_layer.weight.size()[1])\n",
    "model.top_layer = None\n",
    "model.features = torch.nn.DataParallel(model.features)\n",
    "model = model.cuda()\n",
    "cudnn.benchmark = True\n",
    "\n",
    "load_weights(model, args.checkpoint)"
   ]
  },
  {
   "cell_type": "code",
   "execution_count": null,
   "metadata": {},
   "outputs": [
    {
     "name": "stdout",
     "output_type": "stream",
     "text": [
      "\\rBatch Number 0/1997230 / 6242\tTime: 15.091 (15.091)\n",
      "\\rBatch Number 1/199723\\rBatch Number 2/199723\\rBatch Number 3/199723\\rBatch Number 4/199723\\rBatch Number 5/199723\\rBatch Number 6/199723\\rBatch Number 7/199723\\rBatch Number 8/199723\\rBatch Number 9/199723\\rBatch Number 10/199723\\rBatch Number 11/199723\\rBatch Number 12/199723\\rBatch Number 13/199723\\rBatch Number 14/199723\\rBatch Number 15/199723\\rBatch Number 16/199723\\rBatch Number 17/199723\\rBatch Number 18/199723\\rBatch Number 19/199723\\rBatch Number 20/199723\\rBatch Number 21/199723\\rBatch Number 22/199723\\rBatch Number 23/199723\\rBatch Number 24/199723\\rBatch Number 25/199723\\rBatch Number 26/199723\\rBatch Number 27/199723\\rBatch Number 28/199723\\rBatch Number 29/199723\\rBatch Number 30/199723\\rBatch Number 31/199723\\rBatch Number 32/199723\\rBatch Number 33/199723\\rBatch Number 34/199723\\rBatch Number 35/199723\\rBatch Number 36/199723\\rBatch Number 37/199723\\rBatch Number 38/199723\\rBatch Number 39/199723\\rBatch Number 40/199723\\rBatch Number 41/199723\\rBatch Number 42/199723\\rBatch Number 43/199723\\rBatch Number 44/199723\\rBatch Number 45/199723\\rBatch Number 46/199723\\rBatch Number 47/199723\\rBatch Number 48/199723\\rBatch Number 49/199723\\rBatch Number 50/199723\\rBatch Number 51/199723\\rBatch Number 52/199723\\rBatch Number 53/199723\\rBatch Number 54/199723\\rBatch Number 55/199723\\rBatch Number 56/199723\\rBatch Number 57/199723\\rBatch Number 58/199723\\rBatch Number 59/199723\\rBatch Number 60/199723\\rBatch Number 61/199723\\rBatch Number 62/199723\\rBatch Number 63/199723\\rBatch Number 64/199723\\rBatch Number 65/199723\\rBatch Number 66/199723\\rBatch Number 67/199723\\rBatch Number 68/199723\\rBatch Number 69/199723\\rBatch Number 70/199723\\rBatch Number 71/199723\\rBatch Number 72/199723\\rBatch Number 73/199723\\rBatch Number 74/199723\\rBatch Number 75/199723\\rBatch Number 76/199723\\rBatch Number 77/199723\\rBatch Number 78/199723\\rBatch Number 79/199723\\rBatch Number 80/199723\\rBatch Number 81/199723\\rBatch Number 82/199723\\rBatch Number 83/199723\\rBatch Number 84/199723\\rBatch Number 85/199723\\rBatch Number 86/199723\\rBatch Number 87/199723\\rBatch Number 88/199723\\rBatch Number 89/199723\\rBatch Number 90/199723\\rBatch Number 91/199723\\rBatch Number 92/199723\\rBatch Number 93/199723\\rBatch Number 94/199723\\rBatch Number 95/199723\\rBatch Number 96/199723\\rBatch Number 97/199723\\rBatch Number 98/199723\\rBatch Number 99/199723\\rBatch Number 100/199723\\rBatch Number 101/199723\\rBatch Number 102/199723\\rBatch Number 103/199723\\rBatch Number 104/199723\\rBatch Number 105/199723\\rBatch Number 106/199723\\rBatch Number 107/199723\\rBatch Number 108/199723\\rBatch Number 109/199723\\rBatch Number 110/199723\\rBatch Number 111/199723\\rBatch Number 112/199723\\rBatch Number 113/199723\\rBatch Number 114/199723\\rBatch Number 115/199723\\rBatch Number 116/199723\\rBatch Number 117/199723\\rBatch Number 118/199723\\rBatch Number 119/199723\\rBatch Number 120/199723\\rBatch Number 121/199723\\rBatch Number 122/199723\\rBatch Number 123/199723\\rBatch Number 124/199723\\rBatch Number 125/199723\\rBatch Number 126/199723\\rBatch Number 127/199723\\rBatch Number 128/199723\\rBatch Number 129/199723\\rBatch Number 130/199723\\rBatch Number 131/199723\\rBatch Number 132/199723\\rBatch Number 133/199723\\rBatch Number 134/199723\\rBatch Number 135/199723\\rBatch Number 136/199723\\rBatch Number 137/199723\\rBatch Number 138/199723\\rBatch Number 139/199723\\rBatch Number 140/199723\\rBatch Number 141/199723\\rBatch Number 142/199723\\rBatch Number 143/199723\\rBatch Number 144/199723\\rBatch Number 145/199723\\rBatch Number 146/199723\\rBatch Number 147/199723\\rBatch Number 148/199723\\rBatch Number 149/199723\\rBatch Number 150/199723\\rBatch Number 151/199723\\rBatch Number 152/199723\\rBatch Number 153/199723\\rBatch Number 154/199723\\rBatch Number 155/199723\\rBatch Number 156/199723\\rBatch Number 157/199723\\rBatch Number 158/199723\\rBatch Number 159/199723\\rBatch Number 160/199723\\rBatch Number 161/199723\\rBatch Number 162/199723\\rBatch Number 163/199723\\rBatch Number 164/199723\\rBatch Number 165/199723\\rBatch Number 166/199723\\rBatch Number 167/199723\\rBatch Number 168/199723\\rBatch Number 169/199723\\rBatch Number 170/199723\\rBatch Number 171/199723\\rBatch Number 172/199723\\rBatch Number 173/199723\\rBatch Number 174/199723\\rBatch Number 175/199723\\rBatch Number 176/199723\\rBatch Number 177/199723\\rBatch Number 178/199723\\rBatch Number 179/199723\\rBatch Number 180/199723\\rBatch Number 181/199723\\rBatch Number 182/199723\\rBatch Number 183/199723\\rBatch Number 184/199723\\rBatch Number 185/199723\\rBatch Number 186/199723\\rBatch Number 187/199723\\rBatch Number 188/199723\\rBatch Number 189/199723\\rBatch Number 190/199723\\rBatch Number 191/199723\\rBatch Number 192/199723\\rBatch Number 193/199723\\rBatch Number 194/199723\\rBatch Number 195/199723\\rBatch Number 196/199723\\rBatch Number 197/199723\\rBatch Number 198/199723\\rBatch Number 199/199723\\rBatch Number 200/199723200 / 6242\tTime: 0.052 (0.599)\n",
      "\\rBatch Number 201/199723\\rBatch Number 202/199723\\rBatch Number 203/199723\\rBatch Number 204/199723\\rBatch Number 205/199723\\rBatch Number 206/199723\\rBatch Number 207/199723\\rBatch Number 208/199723\\rBatch Number 209/199723\\rBatch Number 210/199723\\rBatch Number 211/199723\\rBatch Number 212/199723\\rBatch Number 213/199723\\rBatch Number 214/199723\\rBatch Number 215/199723\\rBatch Number 216/199723\\rBatch Number 217/199723\\rBatch Number 218/199723\\rBatch Number 219/199723\\rBatch Number 220/199723\\rBatch Number 221/199723\\rBatch Number 222/199723\\rBatch Number 223/199723\\rBatch Number 224/199723\\rBatch Number 225/199723\\rBatch Number 226/199723\\rBatch Number 227/199723\\rBatch Number 228/199723\\rBatch Number 229/199723\\rBatch Number 230/199723\\rBatch Number 231/199723\\rBatch Number 232/199723\\rBatch Number 233/199723\\rBatch Number 234/199723\\rBatch Number 235/199723\\rBatch Number 236/199723\\rBatch Number 237/199723\\rBatch Number 238/199723\\rBatch Number 239/199723\\rBatch Number 240/199723\\rBatch Number 241/199723\\rBatch Number 242/199723\\rBatch Number 243/199723\\rBatch Number 244/199723\\rBatch Number 245/199723\\rBatch Number 246/199723\\rBatch Number 247/199723\\rBatch Number 248/199723\\rBatch Number 249/199723\\rBatch Number 250/199723\\rBatch Number 251/199723\\rBatch Number 252/199723\\rBatch Number 253/199723\\rBatch Number 254/199723\\rBatch Number 255/199723\\rBatch Number 256/199723\\rBatch Number 257/199723\\rBatch Number 258/199723\\rBatch Number 259/199723\\rBatch Number 260/199723\\rBatch Number 261/199723\\rBatch Number 262/199723\\rBatch Number 263/199723\\rBatch Number 264/199723\\rBatch Number 265/199723\\rBatch Number 266/199723\\rBatch Number 267/199723\\rBatch Number 268/199723\\rBatch Number 269/199723\\rBatch Number 270/199723\\rBatch Number 271/199723\\rBatch Number 272/199723\\rBatch Number 273/199723\\rBatch Number 274/199723\\rBatch Number 275/199723\\rBatch Number 276/199723\\rBatch Number 277/199723\\rBatch Number 278/199723\\rBatch Number 279/199723\\rBatch Number 280/199723\\rBatch Number 281/199723\\rBatch Number 282/199723\\rBatch Number 283/199723\\rBatch Number 284/199723\\rBatch Number 285/199723\\rBatch Number 286/199723\\rBatch Number 287/199723\\rBatch Number 288/199723\\rBatch Number 289/199723\\rBatch Number 290/199723\\rBatch Number 291/199723\\rBatch Number 292/199723\\rBatch Number 293/199723\\rBatch Number 294/199723\\rBatch Number 295/199723\\rBatch Number 296/199723\\rBatch Number 297/199723\\rBatch Number 298/199723\\rBatch Number 299/199723\\rBatch Number 300/199723\\rBatch Number 301/199723\\rBatch Number 302/199723\\rBatch Number 303/199723\\rBatch Number 304/199723\\rBatch Number 305/199723\\rBatch Number 306/199723\\rBatch Number 307/199723\\rBatch Number 308/199723\\rBatch Number 309/199723\\rBatch Number 310/199723\\rBatch Number 311/199723\\rBatch Number 312/199723\\rBatch Number 313/199723\\rBatch Number 314/199723\\rBatch Number 315/199723\\rBatch Number 316/199723\\rBatch Number 317/199723\\rBatch Number 318/199723\\rBatch Number 319/199723\\rBatch Number 320/199723\\rBatch Number 321/199723\\rBatch Number 322/199723\\rBatch Number 323/199723\\rBatch Number 324/199723\\rBatch Number 325/199723\\rBatch Number 326/199723\\rBatch Number 327/199723\\rBatch Number 328/199723\\rBatch Number 329/199723\\rBatch Number 330/199723\\rBatch Number 331/199723\\rBatch Number 332/199723\\rBatch Number 333/199723\\rBatch Number 334/199723\\rBatch Number 335/199723\\rBatch Number 336/199723\\rBatch Number 337/199723\\rBatch Number 338/199723\\rBatch Number 339/199723\\rBatch Number 340/199723\\rBatch Number 341/199723\\rBatch Number 342/199723\\rBatch Number 343/199723\\rBatch Number 344/199723\\rBatch Number 345/199723\\rBatch Number 346/199723\\rBatch Number 347/199723\\rBatch Number 348/199723\\rBatch Number 349/199723\\rBatch Number 350/199723\\rBatch Number 351/199723\\rBatch Number 352/199723\\rBatch Number 353/199723\\rBatch Number 354/199723\\rBatch Number 355/199723\\rBatch Number 356/199723\\rBatch Number 357/199723\\rBatch Number 358/199723\\rBatch Number 359/199723\\rBatch Number 360/199723\\rBatch Number 361/199723\\rBatch Number 362/199723\\rBatch Number 363/199723\\rBatch Number 364/199723\\rBatch Number 365/199723\\rBatch Number 366/199723\\rBatch Number 367/199723\\rBatch Number 368/199723\\rBatch Number 369/199723\\rBatch Number 370/199723\\rBatch Number 371/199723\\rBatch Number 372/199723\\rBatch Number 373/199723\\rBatch Number 374/199723\\rBatch Number 375/199723\\rBatch Number 376/199723\\rBatch Number 377/199723\\rBatch Number 378/199723\\rBatch Number 379/199723\\rBatch Number 380/199723\\rBatch Number 381/199723\\rBatch Number 382/199723\\rBatch Number 383/199723\\rBatch Number 384/199723\\rBatch Number 385/199723\\rBatch Number 386/199723\\rBatch Number 387/199723\\rBatch Number 388/199723\\rBatch Number 389/199723\\rBatch Number 390/199723\\rBatch Number 391/199723\\rBatch Number 392/199723\\rBatch Number 393/199723\\rBatch Number 394/199723\\rBatch Number 395/199723\\rBatch Number 396/199723\\rBatch Number 397/199723\\rBatch Number 398/199723\\rBatch Number 399/199723\\rBatch Number 400/199723400 / 6242\tTime: 0.061 (0.608)\n",
      "\\rBatch Number 401/199723\\rBatch Number 402/199723\\rBatch Number 403/199723\\rBatch Number 404/199723\\rBatch Number 405/199723\\rBatch Number 406/199723\\rBatch Number 407/199723\\rBatch Number 408/199723\\rBatch Number 409/199723\\rBatch Number 410/199723\\rBatch Number 411/199723\\rBatch Number 412/199723\\rBatch Number 413/199723\\rBatch Number 414/199723\\rBatch Number 415/199723\\rBatch Number 416/199723\\rBatch Number 417/199723\\rBatch Number 418/199723\\rBatch Number 419/199723\\rBatch Number 420/199723\\rBatch Number 421/199723\\rBatch Number 422/199723\\rBatch Number 423/199723\\rBatch Number 424/199723\\rBatch Number 425/199723\\rBatch Number 426/199723\\rBatch Number 427/199723\\rBatch Number 428/199723\\rBatch Number 429/199723\\rBatch Number 430/199723\\rBatch Number 431/199723\\rBatch Number 432/199723\\rBatch Number 433/199723\\rBatch Number 434/199723\\rBatch Number 435/199723\\rBatch Number 436/199723\\rBatch Number 437/199723\\rBatch Number 438/199723\\rBatch Number 439/199723\\rBatch Number 440/199723\\rBatch Number 441/199723\\rBatch Number 442/199723\\rBatch Number 443/199723\\rBatch Number 444/199723\\rBatch Number 445/199723\\rBatch Number 446/199723\\rBatch Number 447/199723\\rBatch Number 448/199723\\rBatch Number 449/199723\\rBatch Number 450/199723\\rBatch Number 451/199723\\rBatch Number 452/199723\\rBatch Number 453/199723\\rBatch Number 454/199723\\rBatch Number 455/199723\\rBatch Number 456/199723\\rBatch Number 457/199723\\rBatch Number 458/199723\\rBatch Number 459/199723\\rBatch Number 460/199723\\rBatch Number 461/199723\\rBatch Number 462/199723\\rBatch Number 463/199723\\rBatch Number 464/199723\\rBatch Number 465/199723\\rBatch Number 466/199723\\rBatch Number 467/199723\\rBatch Number 468/199723\\rBatch Number 469/199723\\rBatch Number 470/199723\\rBatch Number 471/199723\\rBatch Number 472/199723\\rBatch Number 473/199723\\rBatch Number 474/199723\\rBatch Number 475/199723\\rBatch Number 476/199723\\rBatch Number 477/199723\\rBatch Number 478/199723\\rBatch Number 479/199723\\rBatch Number 480/199723\\rBatch Number 481/199723\\rBatch Number 482/199723\\rBatch Number 483/199723\\rBatch Number 484/199723\\rBatch Number 485/199723\\rBatch Number 486/199723\\rBatch Number 487/199723\\rBatch Number 488/199723\\rBatch Number 489/199723\\rBatch Number 490/199723\\rBatch Number 491/199723\\rBatch Number 492/199723\\rBatch Number 493/199723\\rBatch Number 494/199723\\rBatch Number 495/199723\\rBatch Number 496/199723\\rBatch Number 497/199723\\rBatch Number 498/199723\\rBatch Number 499/199723\\rBatch Number 500/199723\\rBatch Number 501/199723\\rBatch Number 502/199723\\rBatch Number 503/199723\\rBatch Number 504/199723\\rBatch Number 505/199723\\rBatch Number 506/199723\\rBatch Number 507/199723\\rBatch Number 508/199723\\rBatch Number 509/199723\\rBatch Number 510/199723\\rBatch Number 511/199723\\rBatch Number 512/199723\\rBatch Number 513/199723\\rBatch Number 514/199723\\rBatch Number 515/199723\\rBatch Number 516/199723\\rBatch Number 517/199723\\rBatch Number 518/199723\\rBatch Number 519/199723\\rBatch Number 520/199723\\rBatch Number 521/199723\\rBatch Number 522/199723\\rBatch Number 523/199723\\rBatch Number 524/199723\\rBatch Number 525/199723\\rBatch Number 526/199723\\rBatch Number 527/199723\\rBatch Number 528/199723\\rBatch Number 529/199723\\rBatch Number 530/199723\\rBatch Number 531/199723\\rBatch Number 532/199723\\rBatch Number 533/199723\\rBatch Number 534/199723\\rBatch Number 535/199723\\rBatch Number 536/199723\\rBatch Number 537/199723\\rBatch Number 538/199723\\rBatch Number 539/199723\\rBatch Number 540/199723\\rBatch Number 541/199723\\rBatch Number 542/199723\\rBatch Number 543/199723\\rBatch Number 544/199723\\rBatch Number 545/199723\\rBatch Number 546/199723\\rBatch Number 547/199723\\rBatch Number 548/199723\\rBatch Number 549/199723\\rBatch Number 550/199723\\rBatch Number 551/199723\\rBatch Number 552/199723\\rBatch Number 553/199723\\rBatch Number 554/199723\\rBatch Number 555/199723\\rBatch Number 556/199723\\rBatch Number 557/199723\\rBatch Number 558/199723\\rBatch Number 559/199723\\rBatch Number 560/199723\\rBatch Number 561/199723\\rBatch Number 562/199723\\rBatch Number 563/199723\\rBatch Number 564/199723\\rBatch Number 565/199723\\rBatch Number 566/199723\\rBatch Number 567/199723\\rBatch Number 568/199723\\rBatch Number 569/199723\\rBatch Number 570/199723\\rBatch Number 571/199723\\rBatch Number 572/199723\\rBatch Number 573/199723\\rBatch Number 574/199723\\rBatch Number 575/199723\\rBatch Number 576/199723\\rBatch Number 577/199723\\rBatch Number 578/199723\\rBatch Number 579/199723\\rBatch Number 580/199723\\rBatch Number 581/199723\\rBatch Number 582/199723\\rBatch Number 583/199723\\rBatch Number 584/199723\\rBatch Number 585/199723\\rBatch Number 586/199723\\rBatch Number 587/199723\\rBatch Number 588/199723\\rBatch Number 589/199723\\rBatch Number 590/199723\\rBatch Number 591/199723\\rBatch Number 592/199723\\rBatch Number 593/199723\\rBatch Number 594/199723\\rBatch Number 595/199723\\rBatch Number 596/199723\\rBatch Number 597/199723\\rBatch Number 598/199723\\rBatch Number 599/199723\\rBatch Number 600/199723600 / 6242\tTime: 0.054 (0.629)\n",
      "\\rBatch Number 601/199723\\rBatch Number 602/199723\\rBatch Number 603/199723\\rBatch Number 604/199723\\rBatch Number 605/199723\\rBatch Number 606/199723\\rBatch Number 607/199723\\rBatch Number 608/199723\\rBatch Number 609/199723\\rBatch Number 610/199723\\rBatch Number 611/199723\\rBatch Number 612/199723\\rBatch Number 613/199723\\rBatch Number 614/199723\\rBatch Number 615/199723\\rBatch Number 616/199723\\rBatch Number 617/199723\\rBatch Number 618/199723\\rBatch Number 619/199723\\rBatch Number 620/199723\\rBatch Number 621/199723\\rBatch Number 622/199723\\rBatch Number 623/199723\\rBatch Number 624/199723\\rBatch Number 625/199723\\rBatch Number 626/199723\\rBatch Number 627/199723\\rBatch Number 628/199723\\rBatch Number 629/199723\\rBatch Number 630/199723\\rBatch Number 631/199723\\rBatch Number 632/199723\\rBatch Number 633/199723\\rBatch Number 634/199723\\rBatch Number 635/199723\\rBatch Number 636/199723\\rBatch Number 637/199723\\rBatch Number 638/199723\\rBatch Number 639/199723\\rBatch Number 640/199723\\rBatch Number 641/199723\\rBatch Number 642/199723\\rBatch Number 643/199723\\rBatch Number 644/199723\\rBatch Number 645/199723\\rBatch Number 646/199723\\rBatch Number 647/199723\\rBatch Number 648/199723\\rBatch Number 649/199723\\rBatch Number 650/199723\\rBatch Number 651/199723\\rBatch Number 652/199723\\rBatch Number 653/199723\\rBatch Number 654/199723\\rBatch Number 655/199723\\rBatch Number 656/199723\\rBatch Number 657/199723\\rBatch Number 658/199723\\rBatch Number 659/199723\\rBatch Number 660/199723\\rBatch Number 661/199723\\rBatch Number 662/199723\\rBatch Number 663/199723\\rBatch Number 664/199723\\rBatch Number 665/199723\\rBatch Number 666/199723\\rBatch Number 667/199723\\rBatch Number 668/199723\\rBatch Number 669/199723\\rBatch Number 670/199723\\rBatch Number 671/199723\\rBatch Number 672/199723\\rBatch Number 673/199723\\rBatch Number 674/199723\\rBatch Number 675/199723\\rBatch Number 676/199723\\rBatch Number 677/199723\\rBatch Number 678/199723\\rBatch Number 679/199723\\rBatch Number 680/199723\\rBatch Number 681/199723\\rBatch Number 682/199723\\rBatch Number 683/199723\\rBatch Number 684/199723\\rBatch Number 685/199723\\rBatch Number 686/199723\\rBatch Number 687/199723\\rBatch Number 688/199723\\rBatch Number 689/199723\\rBatch Number 690/199723\\rBatch Number 691/199723\\rBatch Number 692/199723\\rBatch Number 693/199723\\rBatch Number 694/199723\\rBatch Number 695/199723\\rBatch Number 696/199723\\rBatch Number 697/199723\\rBatch Number 698/199723\\rBatch Number 699/199723\\rBatch Number 700/199723\\rBatch Number 701/199723\\rBatch Number 702/199723\\rBatch Number 703/199723\\rBatch Number 704/199723\\rBatch Number 705/199723\\rBatch Number 706/199723\\rBatch Number 707/199723\\rBatch Number 708/199723\\rBatch Number 709/199723\\rBatch Number 710/199723\\rBatch Number 711/199723\\rBatch Number 712/199723\\rBatch Number 713/199723\\rBatch Number 714/199723\\rBatch Number 715/199723\\rBatch Number 716/199723\\rBatch Number 717/199723\\rBatch Number 718/199723\\rBatch Number 719/199723\\rBatch Number 720/199723\\rBatch Number 721/199723\\rBatch Number 722/199723\\rBatch Number 723/199723\\rBatch Number 724/199723\\rBatch Number 725/199723\\rBatch Number 726/199723\\rBatch Number 727/199723\\rBatch Number 728/199723\\rBatch Number 729/199723\\rBatch Number 730/199723\\rBatch Number 731/199723\\rBatch Number 732/199723\\rBatch Number 733/199723\\rBatch Number 734/199723\\rBatch Number 735/199723\\rBatch Number 736/199723\\rBatch Number 737/199723\\rBatch Number 738/199723\\rBatch Number 739/199723\\rBatch Number 740/199723\\rBatch Number 741/199723\\rBatch Number 742/199723\\rBatch Number 743/199723\\rBatch Number 744/199723\\rBatch Number 745/199723\\rBatch Number 746/199723\\rBatch Number 747/199723\\rBatch Number 748/199723\\rBatch Number 749/199723\\rBatch Number 750/199723\\rBatch Number 751/199723\\rBatch Number 752/199723\\rBatch Number 753/199723\\rBatch Number 754/199723\\rBatch Number 755/199723\\rBatch Number 756/199723\\rBatch Number 757/199723\\rBatch Number 758/199723\\rBatch Number 759/199723\\rBatch Number 760/199723\\rBatch Number 761/199723\\rBatch Number 762/199723\\rBatch Number 763/199723\\rBatch Number 764/199723\\rBatch Number 765/199723\\rBatch Number 766/199723\\rBatch Number 767/199723\\rBatch Number 768/199723\\rBatch Number 769/199723\\rBatch Number 770/199723\\rBatch Number 771/199723\\rBatch Number 772/199723\\rBatch Number 773/199723\\rBatch Number 774/199723\\rBatch Number 775/199723\\rBatch Number 776/199723\\rBatch Number 777/199723\\rBatch Number 778/199723\\rBatch Number 779/199723\\rBatch Number 780/199723\\rBatch Number 781/199723\\rBatch Number 782/199723\\rBatch Number 783/199723\\rBatch Number 784/199723\\rBatch Number 785/199723\\rBatch Number 786/199723\\rBatch Number 787/199723\\rBatch Number 788/199723\\rBatch Number 789/199723\\rBatch Number 790/199723\\rBatch Number 791/199723\\rBatch Number 792/199723\\rBatch Number 793/199723\\rBatch Number 794/199723\\rBatch Number 795/199723\\rBatch Number 796/199723\\rBatch Number 797/199723\\rBatch Number 798/199723\\rBatch Number 799/199723\\rBatch Number 800/199723800 / 6242\tTime: 0.053 (0.645)\n",
      "\\rBatch Number 801/199723\\rBatch Number 802/199723\\rBatch Number 803/199723\\rBatch Number 804/199723\\rBatch Number 805/199723\\rBatch Number 806/199723\\rBatch Number 807/199723\\rBatch Number 808/199723\\rBatch Number 809/199723\\rBatch Number 810/199723\\rBatch Number 811/199723\\rBatch Number 812/199723\\rBatch Number 813/199723\\rBatch Number 814/199723\\rBatch Number 815/199723\\rBatch Number 816/199723\\rBatch Number 817/199723\\rBatch Number 818/199723\\rBatch Number 819/199723\\rBatch Number 820/199723\\rBatch Number 821/199723\\rBatch Number 822/199723\\rBatch Number 823/199723\\rBatch Number 824/199723\\rBatch Number 825/199723\\rBatch Number 826/199723\\rBatch Number 827/199723\\rBatch Number 828/199723\\rBatch Number 829/199723\\rBatch Number 830/199723\\rBatch Number 831/199723\\rBatch Number 832/199723\\rBatch Number 833/199723\\rBatch Number 834/199723\\rBatch Number 835/199723\\rBatch Number 836/199723\\rBatch Number 837/199723\\rBatch Number 838/199723\\rBatch Number 839/199723\\rBatch Number 840/199723\\rBatch Number 841/199723\\rBatch Number 842/199723\\rBatch Number 843/199723\\rBatch Number 844/199723\\rBatch Number 845/199723\\rBatch Number 846/199723\\rBatch Number 847/199723\\rBatch Number 848/199723\\rBatch Number 849/199723\\rBatch Number 850/199723\\rBatch Number 851/199723\\rBatch Number 852/199723\\rBatch Number 853/199723\\rBatch Number 854/199723\\rBatch Number 855/199723\\rBatch Number 856/199723\\rBatch Number 857/199723\\rBatch Number 858/199723\\rBatch Number 859/199723\\rBatch Number 860/199723\\rBatch Number 861/199723\\rBatch Number 862/199723\\rBatch Number 863/199723\\rBatch Number 864/199723\\rBatch Number 865/199723\\rBatch Number 866/199723\\rBatch Number 867/199723\\rBatch Number 868/199723\\rBatch Number 869/199723\\rBatch Number 870/199723\\rBatch Number 871/199723\\rBatch Number 872/199723\\rBatch Number 873/199723\\rBatch Number 874/199723\\rBatch Number 875/199723\\rBatch Number 876/199723\\rBatch Number 877/199723\\rBatch Number 878/199723\\rBatch Number 879/199723\\rBatch Number 880/199723\\rBatch Number 881/199723\\rBatch Number 882/199723\\rBatch Number 883/199723\\rBatch Number 884/199723\\rBatch Number 885/199723\\rBatch Number 886/199723\\rBatch Number 887/199723\\rBatch Number 888/199723\\rBatch Number 889/199723\\rBatch Number 890/199723\\rBatch Number 891/199723\\rBatch Number 892/199723\\rBatch Number 893/199723\\rBatch Number 894/199723\\rBatch Number 895/199723\\rBatch Number 896/199723\\rBatch Number 897/199723\\rBatch Number 898/199723\\rBatch Number 899/199723\\rBatch Number 900/199723\\rBatch Number 901/199723\\rBatch Number 902/199723\\rBatch Number 903/199723\\rBatch Number 904/199723\\rBatch Number 905/199723\\rBatch Number 906/199723\\rBatch Number 907/199723\\rBatch Number 908/199723\\rBatch Number 909/199723\\rBatch Number 910/199723\\rBatch Number 911/199723\\rBatch Number 912/199723\\rBatch Number 913/199723\\rBatch Number 914/199723\\rBatch Number 915/199723\\rBatch Number 916/199723\\rBatch Number 917/199723\\rBatch Number 918/199723\\rBatch Number 919/199723\\rBatch Number 920/199723\\rBatch Number 921/199723\\rBatch Number 922/199723\\rBatch Number 923/199723\\rBatch Number 924/199723\\rBatch Number 925/199723\\rBatch Number 926/199723\\rBatch Number 927/199723\\rBatch Number 928/199723\\rBatch Number 929/199723\\rBatch Number 930/199723\\rBatch Number 931/199723\\rBatch Number 932/199723\\rBatch Number 933/199723\\rBatch Number 934/199723\\rBatch Number 935/199723\\rBatch Number 936/199723\\rBatch Number 937/199723\\rBatch Number 938/199723\\rBatch Number 939/199723\\rBatch Number 940/199723\\rBatch Number 941/199723\\rBatch Number 942/199723\\rBatch Number 943/199723\\rBatch Number 944/199723\\rBatch Number 945/199723\\rBatch Number 946/199723\\rBatch Number 947/199723\\rBatch Number 948/199723\\rBatch Number 949/199723\\rBatch Number 950/199723\\rBatch Number 951/199723\\rBatch Number 952/199723\\rBatch Number 953/199723\\rBatch Number 954/199723\\rBatch Number 955/199723\\rBatch Number 956/199723\\rBatch Number 957/199723\\rBatch Number 958/199723\\rBatch Number 959/199723\\rBatch Number 960/199723\\rBatch Number 961/199723\\rBatch Number 962/199723\\rBatch Number 963/199723\\rBatch Number 964/199723\\rBatch Number 965/199723\\rBatch Number 966/199723\\rBatch Number 967/199723\\rBatch Number 968/199723\\rBatch Number 969/199723\\rBatch Number 970/199723\\rBatch Number 971/199723\\rBatch Number 972/199723\\rBatch Number 973/199723\\rBatch Number 974/199723\\rBatch Number 975/199723\\rBatch Number 976/199723\\rBatch Number 977/199723\\rBatch Number 978/199723\\rBatch Number 979/199723\\rBatch Number 980/199723\\rBatch Number 981/199723\\rBatch Number 982/199723\\rBatch Number 983/199723\\rBatch Number 984/199723\\rBatch Number 985/199723\\rBatch Number 986/199723\\rBatch Number 987/199723\\rBatch Number 988/199723\\rBatch Number 989/199723\\rBatch Number 990/199723\\rBatch Number 991/199723\\rBatch Number 992/199723\\rBatch Number 993/199723\\rBatch Number 994/199723\\rBatch Number 995/199723\\rBatch Number 996/199723\\rBatch Number 997/199723\\rBatch Number 998/199723\\rBatch Number 999/199723\\rBatch Number 1000/1997231000 / 6242\tTime: 0.734 (0.637)\n",
      "\\rBatch Number 1001/199723\\rBatch Number 1002/199723\\rBatch Number 1003/199723\\rBatch Number 1004/199723\\rBatch Number 1005/199723\\rBatch Number 1006/199723\\rBatch Number 1007/199723\\rBatch Number 1008/199723\\rBatch Number 1009/199723\\rBatch Number 1010/199723\\rBatch Number 1011/199723\\rBatch Number 1012/199723\\rBatch Number 1013/199723\\rBatch Number 1014/199723\\rBatch Number 1015/199723\\rBatch Number 1016/199723\\rBatch Number 1017/199723\\rBatch Number 1018/199723\\rBatch Number 1019/199723\\rBatch Number 1020/199723\\rBatch Number 1021/199723\\rBatch Number 1022/199723\\rBatch Number 1023/199723\\rBatch Number 1024/199723\\rBatch Number 1025/199723\\rBatch Number 1026/199723\\rBatch Number 1027/199723\\rBatch Number 1028/199723\\rBatch Number 1029/199723\\rBatch Number 1030/199723\\rBatch Number 1031/199723\\rBatch Number 1032/199723\\rBatch Number 1033/199723\\rBatch Number 1034/199723\\rBatch Number 1035/199723\\rBatch Number 1036/199723\\rBatch Number 1037/199723\\rBatch Number 1038/199723\\rBatch Number 1039/199723\\rBatch Number 1040/199723\\rBatch Number 1041/199723\\rBatch Number 1042/199723\\rBatch Number 1043/199723\\rBatch Number 1044/199723\\rBatch Number 1045/199723\\rBatch Number 1046/199723\\rBatch Number 1047/199723\\rBatch Number 1048/199723\\rBatch Number 1049/199723\\rBatch Number 1050/199723\\rBatch Number 1051/199723\\rBatch Number 1052/199723\\rBatch Number 1053/199723\\rBatch Number 1054/199723\\rBatch Number 1055/199723\\rBatch Number 1056/199723\\rBatch Number 1057/199723\\rBatch Number 1058/199723\\rBatch Number 1059/199723\\rBatch Number 1060/199723\\rBatch Number 1061/199723\\rBatch Number 1062/199723\\rBatch Number 1063/199723\\rBatch Number 1064/199723\\rBatch Number 1065/199723\\rBatch Number 1066/199723\\rBatch Number 1067/199723\\rBatch Number 1068/199723\\rBatch Number 1069/199723\\rBatch Number 1070/199723\\rBatch Number 1071/199723\\rBatch Number 1072/199723\\rBatch Number 1073/199723\\rBatch Number 1074/199723\\rBatch Number 1075/199723\\rBatch Number 1076/199723\\rBatch Number 1077/199723\\rBatch Number 1078/199723\\rBatch Number 1079/199723\\rBatch Number 1080/199723\\rBatch Number 1081/199723\\rBatch Number 1082/199723\\rBatch Number 1083/199723\\rBatch Number 1084/199723\\rBatch Number 1085/199723\\rBatch Number 1086/199723\\rBatch Number 1087/199723\\rBatch Number 1088/199723\\rBatch Number 1089/199723\\rBatch Number 1090/199723\\rBatch Number 1091/199723\\rBatch Number 1092/199723\\rBatch Number 1093/199723\\rBatch Number 1094/199723\\rBatch Number 1095/199723\\rBatch Number 1096/199723\\rBatch Number 1097/199723\\rBatch Number 1098/199723\\rBatch Number 1099/199723\\rBatch Number 1100/199723\\rBatch Number 1101/199723\\rBatch Number 1102/199723\\rBatch Number 1103/199723\\rBatch Number 1104/199723\\rBatch Number 1105/199723\\rBatch Number 1106/199723\\rBatch Number 1107/199723\\rBatch Number 1108/199723\\rBatch Number 1109/199723\\rBatch Number 1110/199723\\rBatch Number 1111/199723\\rBatch Number 1112/199723\\rBatch Number 1113/199723\\rBatch Number 1114/199723\\rBatch Number 1115/199723\\rBatch Number 1116/199723\\rBatch Number 1117/199723\\rBatch Number 1118/199723\\rBatch Number 1119/199723\\rBatch Number 1120/199723\\rBatch Number 1121/199723\\rBatch Number 1122/199723\\rBatch Number 1123/199723\\rBatch Number 1124/199723\\rBatch Number 1125/199723\\rBatch Number 1126/199723\\rBatch Number 1127/199723\\rBatch Number 1128/199723\\rBatch Number 1129/199723\\rBatch Number 1130/199723\\rBatch Number 1131/199723\\rBatch Number 1132/199723\\rBatch Number 1133/199723\\rBatch Number 1134/199723\\rBatch Number 1135/199723\\rBatch Number 1136/199723\\rBatch Number 1137/199723\\rBatch Number 1138/199723\\rBatch Number 1139/199723\\rBatch Number 1140/199723\\rBatch Number 1141/199723\\rBatch Number 1142/199723\\rBatch Number 1143/199723\\rBatch Number 1144/199723\\rBatch Number 1145/199723\\rBatch Number 1146/199723\\rBatch Number 1147/199723\\rBatch Number 1148/199723\\rBatch Number 1149/199723\\rBatch Number 1150/199723\\rBatch Number 1151/199723\\rBatch Number 1152/199723\\rBatch Number 1153/199723\\rBatch Number 1154/199723\\rBatch Number 1155/199723\\rBatch Number 1156/199723\\rBatch Number 1157/199723\\rBatch Number 1158/199723\\rBatch Number 1159/199723\\rBatch Number 1160/199723\\rBatch Number 1161/199723\\rBatch Number 1162/199723\\rBatch Number 1163/199723\\rBatch Number 1164/199723\\rBatch Number 1165/199723\\rBatch Number 1166/199723\\rBatch Number 1167/199723\\rBatch Number 1168/199723\\rBatch Number 1169/199723\\rBatch Number 1170/199723\\rBatch Number 1171/199723\\rBatch Number 1172/199723\\rBatch Number 1173/199723\\rBatch Number 1174/199723\\rBatch Number 1175/199723\\rBatch Number 1176/199723\\rBatch Number 1177/199723\\rBatch Number 1178/199723\\rBatch Number 1179/199723\\rBatch Number 1180/199723\\rBatch Number 1181/199723\\rBatch Number 1182/199723\\rBatch Number 1183/199723\\rBatch Number 1184/199723\\rBatch Number 1185/199723\\rBatch Number 1186/199723\\rBatch Number 1187/199723\\rBatch Number 1188/199723\\rBatch Number 1189/199723\\rBatch Number 1190/199723\\rBatch Number 1191/199723\\rBatch Number 1192/199723\\rBatch Number 1193/199723\\rBatch Number 1194/199723\\rBatch Number 1195/199723\\rBatch Number 1196/199723\\rBatch Number 1197/199723\\rBatch Number 1198/199723\\rBatch Number 1199/199723\\rBatch Number 1200/1997231200 / 6242\tTime: 0.052 (0.624)\n",
      "\\rBatch Number 1201/199723\\rBatch Number 1202/199723\\rBatch Number 1203/199723\\rBatch Number 1204/199723\\rBatch Number 1205/199723\\rBatch Number 1206/199723\\rBatch Number 1207/199723\\rBatch Number 1208/199723\\rBatch Number 1209/199723\\rBatch Number 1210/199723\\rBatch Number 1211/199723\\rBatch Number 1212/199723\\rBatch Number 1213/199723\\rBatch Number 1214/199723\\rBatch Number 1215/199723\\rBatch Number 1216/199723\\rBatch Number 1217/199723\\rBatch Number 1218/199723\\rBatch Number 1219/199723\\rBatch Number 1220/199723\\rBatch Number 1221/199723\\rBatch Number 1222/199723\\rBatch Number 1223/199723\\rBatch Number 1224/199723\\rBatch Number 1225/199723\\rBatch Number 1226/199723\\rBatch Number 1227/199723\\rBatch Number 1228/199723\\rBatch Number 1229/199723\\rBatch Number 1230/199723\\rBatch Number 1231/199723\\rBatch Number 1232/199723\\rBatch Number 1233/199723\\rBatch Number 1234/199723\\rBatch Number 1235/199723\\rBatch Number 1236/199723\\rBatch Number 1237/199723\\rBatch Number 1238/199723\\rBatch Number 1239/199723\\rBatch Number 1240/199723\\rBatch Number 1241/199723\\rBatch Number 1242/199723\\rBatch Number 1243/199723\\rBatch Number 1244/199723\\rBatch Number 1245/199723\\rBatch Number 1246/199723\\rBatch Number 1247/199723\\rBatch Number 1248/199723\\rBatch Number 1249/199723\\rBatch Number 1250/199723\\rBatch Number 1251/199723\\rBatch Number 1252/199723\\rBatch Number 1253/199723\\rBatch Number 1254/199723\\rBatch Number 1255/199723\\rBatch Number 1256/199723\\rBatch Number 1257/199723\\rBatch Number 1258/199723\\rBatch Number 1259/199723\\rBatch Number 1260/199723\\rBatch Number 1261/199723\\rBatch Number 1262/199723\\rBatch Number 1263/199723\\rBatch Number 1264/199723\\rBatch Number 1265/199723\\rBatch Number 1266/199723\\rBatch Number 1267/199723\\rBatch Number 1268/199723\\rBatch Number 1269/199723\\rBatch Number 1270/199723\\rBatch Number 1271/199723\\rBatch Number 1272/199723\\rBatch Number 1273/199723\\rBatch Number 1274/199723\\rBatch Number 1275/199723\\rBatch Number 1276/199723\\rBatch Number 1277/199723\\rBatch Number 1278/199723\\rBatch Number 1279/199723\\rBatch Number 1280/199723\\rBatch Number 1281/199723\\rBatch Number 1282/199723\\rBatch Number 1283/199723\\rBatch Number 1284/199723\\rBatch Number 1285/199723\\rBatch Number 1286/199723\\rBatch Number 1287/199723\\rBatch Number 1288/199723\\rBatch Number 1289/199723\\rBatch Number 1290/199723\\rBatch Number 1291/199723\\rBatch Number 1292/199723\\rBatch Number 1293/199723\\rBatch Number 1294/199723\\rBatch Number 1295/199723\\rBatch Number 1296/199723\\rBatch Number 1297/199723\\rBatch Number 1298/199723\\rBatch Number 1299/199723\\rBatch Number 1300/199723\\rBatch Number 1301/199723\\rBatch Number 1302/199723\\rBatch Number 1303/199723\\rBatch Number 1304/199723\\rBatch Number 1305/199723\\rBatch Number 1306/199723\\rBatch Number 1307/199723\\rBatch Number 1308/199723\\rBatch Number 1309/199723\\rBatch Number 1310/199723\\rBatch Number 1311/199723\\rBatch Number 1312/199723\\rBatch Number 1313/199723\\rBatch Number 1314/199723\\rBatch Number 1315/199723\\rBatch Number 1316/199723\\rBatch Number 1317/199723\\rBatch Number 1318/199723\\rBatch Number 1319/199723\\rBatch Number 1320/199723\\rBatch Number 1321/199723\\rBatch Number 1322/199723\\rBatch Number 1323/199723\\rBatch Number 1324/199723\\rBatch Number 1325/199723\\rBatch Number 1326/199723\\rBatch Number 1327/199723\\rBatch Number 1328/199723\\rBatch Number 1329/199723\\rBatch Number 1330/199723\\rBatch Number 1331/199723\\rBatch Number 1332/199723\\rBatch Number 1333/199723\\rBatch Number 1334/199723\\rBatch Number 1335/199723\\rBatch Number 1336/199723\\rBatch Number 1337/199723\\rBatch Number 1338/199723\\rBatch Number 1339/199723\\rBatch Number 1340/199723\\rBatch Number 1341/199723\\rBatch Number 1342/199723\\rBatch Number 1343/199723\\rBatch Number 1344/199723\\rBatch Number 1345/199723\\rBatch Number 1346/199723\\rBatch Number 1347/199723\\rBatch Number 1348/199723\\rBatch Number 1349/199723\\rBatch Number 1350/199723\\rBatch Number 1351/199723\\rBatch Number 1352/199723\\rBatch Number 1353/199723\\rBatch Number 1354/199723\\rBatch Number 1355/199723\\rBatch Number 1356/199723\\rBatch Number 1357/199723\\rBatch Number 1358/199723\\rBatch Number 1359/199723\\rBatch Number 1360/199723\\rBatch Number 1361/199723\\rBatch Number 1362/199723\\rBatch Number 1363/199723\\rBatch Number 1364/199723\\rBatch Number 1365/199723\\rBatch Number 1366/199723\\rBatch Number 1367/199723\\rBatch Number 1368/199723\\rBatch Number 1369/199723\\rBatch Number 1370/199723\\rBatch Number 1371/199723\\rBatch Number 1372/199723\\rBatch Number 1373/199723\\rBatch Number 1374/199723\\rBatch Number 1375/199723\\rBatch Number 1376/199723\\rBatch Number 1377/199723\\rBatch Number 1378/199723\\rBatch Number 1379/199723\\rBatch Number 1380/199723\\rBatch Number 1381/199723\\rBatch Number 1382/199723\\rBatch Number 1383/199723\\rBatch Number 1384/199723\\rBatch Number 1385/199723\\rBatch Number 1386/199723\\rBatch Number 1387/199723\\rBatch Number 1388/199723\\rBatch Number 1389/199723\\rBatch Number 1390/199723\\rBatch Number 1391/199723\\rBatch Number 1392/199723\\rBatch Number 1393/199723\\rBatch Number 1394/199723\\rBatch Number 1395/199723\\rBatch Number 1396/199723\\rBatch Number 1397/199723\\rBatch Number 1398/199723\\rBatch Number 1399/199723\\rBatch Number 1400/1997231400 / 6242\tTime: 0.053 (0.615)\n",
      "\\rBatch Number 1401/199723\\rBatch Number 1402/199723\\rBatch Number 1403/199723\\rBatch Number 1404/199723\\rBatch Number 1405/199723\\rBatch Number 1406/199723\\rBatch Number 1407/199723\\rBatch Number 1408/199723"
     ]
    }
   ],
   "source": [
    "model.top_layer = None\n",
    "model.classifier = nn.Sequential(*list(model.classifier.children())[:-1])\n",
    "\n",
    "# get the features for the whole dataset\n",
    "features = compute_features(dataloader, model, len(dataset))"
   ]
  },
  {
   "cell_type": "code",
   "execution_count": null,
   "metadata": {},
   "outputs": [],
   "source": [
    "len(dataset)"
   ]
  },
  {
   "cell_type": "code",
   "execution_count": null,
   "metadata": {},
   "outputs": [],
   "source": [
    "df = pd.DataFrame(features)\n",
    "df.to_csv(args.save_dir+'/feat100k.csv')"
   ]
  },
  {
   "cell_type": "code",
   "execution_count": null,
   "metadata": {},
   "outputs": [],
   "source": [
    "df.head"
   ]
  },
  {
   "cell_type": "code",
   "execution_count": null,
   "metadata": {},
   "outputs": [],
   "source": []
  }
 ],
 "metadata": {
  "kernelspec": {
   "display_name": "Python 3",
   "language": "python",
   "name": "python3"
  },
  "language_info": {
   "codemirror_mode": {
    "name": "ipython",
    "version": 3
   },
   "file_extension": ".py",
   "mimetype": "text/x-python",
   "name": "python",
   "nbconvert_exporter": "python",
   "pygments_lexer": "ipython3",
   "version": "3.5.5"
  }
 },
 "nbformat": 4,
 "nbformat_minor": 2
}
